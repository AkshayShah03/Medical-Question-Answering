{
 "cells": [
  {
   "cell_type": "code",
   "execution_count": 2,
   "id": "dca3ffb4",
   "metadata": {},
   "outputs": [],
   "source": [
    "import numpy as np\n",
    "import pandas as pd\n",
    "import matplotlib.pyplot as plt\n",
    "\n",
    "from tqdm import tqdm\n",
    "import nltk\n",
    "from nltk.tokenize import word_tokenize\n",
    "import re"
   ]
  },
  {
   "cell_type": "code",
   "execution_count": 3,
   "id": "078a46fe",
   "metadata": {},
   "outputs": [
    {
     "data": {
      "text/html": [
       "<div>\n",
       "<style scoped>\n",
       "    .dataframe tbody tr th:only-of-type {\n",
       "        vertical-align: middle;\n",
       "    }\n",
       "\n",
       "    .dataframe tbody tr th {\n",
       "        vertical-align: top;\n",
       "    }\n",
       "\n",
       "    .dataframe thead th {\n",
       "        text-align: right;\n",
       "    }\n",
       "</style>\n",
       "<table border=\"1\" class=\"dataframe\">\n",
       "  <thead>\n",
       "    <tr style=\"text-align: right;\">\n",
       "      <th></th>\n",
       "      <th>Disease Name</th>\n",
       "      <th>Text</th>\n",
       "    </tr>\n",
       "  </thead>\n",
       "  <tbody>\n",
       "    <tr>\n",
       "      <th>0</th>\n",
       "      <td>Abdominal aortic aneurysm</td>\n",
       "      <td>an abdominal aortic aneurysm (aaa) is a swelli...</td>\n",
       "    </tr>\n",
       "    <tr>\n",
       "      <th>1</th>\n",
       "      <td>Acne</td>\n",
       "      <td>acne is a common skin condition that affects m...</td>\n",
       "    </tr>\n",
       "    <tr>\n",
       "      <th>2</th>\n",
       "      <td>Acute cholecystitis</td>\n",
       "      <td>acute cholecystitis is swelling (inflammation)...</td>\n",
       "    </tr>\n",
       "    <tr>\n",
       "      <th>3</th>\n",
       "      <td>Acute lymphoblastic leukaemia</td>\n",
       "      <td>leukaemia is cancer of the white blood cells. ...</td>\n",
       "    </tr>\n",
       "    <tr>\n",
       "      <th>4</th>\n",
       "      <td>Acute lymphoblastic leukaemia: Children</td>\n",
       "      <td>acute lymphoblastic leukaemia (all) is a type ...</td>\n",
       "    </tr>\n",
       "  </tbody>\n",
       "</table>\n",
       "</div>"
      ],
      "text/plain": [
       "                              Disease Name  \\\n",
       "0                Abdominal aortic aneurysm   \n",
       "1                                     Acne   \n",
       "2                      Acute cholecystitis   \n",
       "3            Acute lymphoblastic leukaemia   \n",
       "4  Acute lymphoblastic leukaemia: Children   \n",
       "\n",
       "                                                Text  \n",
       "0  an abdominal aortic aneurysm (aaa) is a swelli...  \n",
       "1  acne is a common skin condition that affects m...  \n",
       "2  acute cholecystitis is swelling (inflammation)...  \n",
       "3  leukaemia is cancer of the white blood cells. ...  \n",
       "4  acute lymphoblastic leukaemia (all) is a type ...  "
      ]
     },
     "execution_count": 3,
     "metadata": {},
     "output_type": "execute_result"
    }
   ],
   "source": [
    "data = pd.read_csv(\"disease_info1.csv\")\n",
    "data.head()"
   ]
  },
  {
   "cell_type": "code",
   "execution_count": 4,
   "id": "ef8c6c1f",
   "metadata": {
    "scrolled": true
   },
   "outputs": [
    {
     "data": {
      "text/html": [
       "<div>\n",
       "<style scoped>\n",
       "    .dataframe tbody tr th:only-of-type {\n",
       "        vertical-align: middle;\n",
       "    }\n",
       "\n",
       "    .dataframe tbody tr th {\n",
       "        vertical-align: top;\n",
       "    }\n",
       "\n",
       "    .dataframe thead th {\n",
       "        text-align: right;\n",
       "    }\n",
       "</style>\n",
       "<table border=\"1\" class=\"dataframe\">\n",
       "  <thead>\n",
       "    <tr style=\"text-align: right;\">\n",
       "      <th></th>\n",
       "      <th>Disease Name</th>\n",
       "      <th>Text</th>\n",
       "      <th>Words</th>\n",
       "    </tr>\n",
       "  </thead>\n",
       "  <tbody>\n",
       "    <tr>\n",
       "      <th>0</th>\n",
       "      <td>Abdominal aortic aneurysm</td>\n",
       "      <td>an abdominal aortic aneurysm (aaa) is a swelli...</td>\n",
       "      <td>[an, abdominal, aortic, aneurysm, aaa, is, a, ...</td>\n",
       "    </tr>\n",
       "    <tr>\n",
       "      <th>1</th>\n",
       "      <td>Acne</td>\n",
       "      <td>acne is a common skin condition that affects m...</td>\n",
       "      <td>[acne, is, a, common, skin, condition, that, a...</td>\n",
       "    </tr>\n",
       "    <tr>\n",
       "      <th>2</th>\n",
       "      <td>Acute cholecystitis</td>\n",
       "      <td>acute cholecystitis is swelling (inflammation)...</td>\n",
       "      <td>[acute, cholecystitis, is, swelling, inflammat...</td>\n",
       "    </tr>\n",
       "    <tr>\n",
       "      <th>3</th>\n",
       "      <td>Acute lymphoblastic leukaemia</td>\n",
       "      <td>leukaemia is cancer of the white blood cells. ...</td>\n",
       "      <td>[leukaemia, is, cancer, of, the, white, blood,...</td>\n",
       "    </tr>\n",
       "    <tr>\n",
       "      <th>4</th>\n",
       "      <td>Acute lymphoblastic leukaemia: Children</td>\n",
       "      <td>acute lymphoblastic leukaemia (all) is a type ...</td>\n",
       "      <td>[acute, lymphoblastic, leukaemia, all, is, a, ...</td>\n",
       "    </tr>\n",
       "  </tbody>\n",
       "</table>\n",
       "</div>"
      ],
      "text/plain": [
       "                              Disease Name  \\\n",
       "0                Abdominal aortic aneurysm   \n",
       "1                                     Acne   \n",
       "2                      Acute cholecystitis   \n",
       "3            Acute lymphoblastic leukaemia   \n",
       "4  Acute lymphoblastic leukaemia: Children   \n",
       "\n",
       "                                                Text  \\\n",
       "0  an abdominal aortic aneurysm (aaa) is a swelli...   \n",
       "1  acne is a common skin condition that affects m...   \n",
       "2  acute cholecystitis is swelling (inflammation)...   \n",
       "3  leukaemia is cancer of the white blood cells. ...   \n",
       "4  acute lymphoblastic leukaemia (all) is a type ...   \n",
       "\n",
       "                                               Words  \n",
       "0  [an, abdominal, aortic, aneurysm, aaa, is, a, ...  \n",
       "1  [acne, is, a, common, skin, condition, that, a...  \n",
       "2  [acute, cholecystitis, is, swelling, inflammat...  \n",
       "3  [leukaemia, is, cancer, of, the, white, blood,...  \n",
       "4  [acute, lymphoblastic, leukaemia, all, is, a, ...  "
      ]
     },
     "execution_count": 4,
     "metadata": {},
     "output_type": "execute_result"
    }
   ],
   "source": [
    "data['Words'] = data.Text.transform(lambda x: word_tokenize(re.sub(r'[^a-zA-Z0-9\\s]',' ',x)))\n",
    "data.head()"
   ]
  },
  {
   "cell_type": "code",
   "execution_count": 5,
   "id": "9bcf853a",
   "metadata": {},
   "outputs": [
    {
     "data": {
      "text/html": [
       "<div>\n",
       "<style scoped>\n",
       "    .dataframe tbody tr th:only-of-type {\n",
       "        vertical-align: middle;\n",
       "    }\n",
       "\n",
       "    .dataframe tbody tr th {\n",
       "        vertical-align: top;\n",
       "    }\n",
       "\n",
       "    .dataframe thead th {\n",
       "        text-align: right;\n",
       "    }\n",
       "</style>\n",
       "<table border=\"1\" class=\"dataframe\">\n",
       "  <thead>\n",
       "    <tr style=\"text-align: right;\">\n",
       "      <th></th>\n",
       "      <th>Disease Name</th>\n",
       "      <th>Text</th>\n",
       "      <th>Words</th>\n",
       "      <th>Text2</th>\n",
       "    </tr>\n",
       "  </thead>\n",
       "  <tbody>\n",
       "    <tr>\n",
       "      <th>0</th>\n",
       "      <td>Abdominal aortic aneurysm</td>\n",
       "      <td>an abdominal aortic aneurysm (aaa) is a swelli...</td>\n",
       "      <td>[an, abdominal, aortic, aneurysm, aaa, is, a, ...</td>\n",
       "      <td>an abdominal aortic aneurysm aaa is a swelling...</td>\n",
       "    </tr>\n",
       "    <tr>\n",
       "      <th>1</th>\n",
       "      <td>Acne</td>\n",
       "      <td>acne is a common skin condition that affects m...</td>\n",
       "      <td>[acne, is, a, common, skin, condition, that, a...</td>\n",
       "      <td>acne is a common skin condition that affects m...</td>\n",
       "    </tr>\n",
       "    <tr>\n",
       "      <th>2</th>\n",
       "      <td>Acute cholecystitis</td>\n",
       "      <td>acute cholecystitis is swelling (inflammation)...</td>\n",
       "      <td>[acute, cholecystitis, is, swelling, inflammat...</td>\n",
       "      <td>acute cholecystitis is swelling inflammation o...</td>\n",
       "    </tr>\n",
       "    <tr>\n",
       "      <th>3</th>\n",
       "      <td>Acute lymphoblastic leukaemia</td>\n",
       "      <td>leukaemia is cancer of the white blood cells. ...</td>\n",
       "      <td>[leukaemia, is, cancer, of, the, white, blood,...</td>\n",
       "      <td>leukaemia is cancer of the white blood cells a...</td>\n",
       "    </tr>\n",
       "    <tr>\n",
       "      <th>4</th>\n",
       "      <td>Acute lymphoblastic leukaemia: Children</td>\n",
       "      <td>acute lymphoblastic leukaemia (all) is a type ...</td>\n",
       "      <td>[acute, lymphoblastic, leukaemia, all, is, a, ...</td>\n",
       "      <td>acute lymphoblastic leukaemia all is a type of...</td>\n",
       "    </tr>\n",
       "  </tbody>\n",
       "</table>\n",
       "</div>"
      ],
      "text/plain": [
       "                              Disease Name  \\\n",
       "0                Abdominal aortic aneurysm   \n",
       "1                                     Acne   \n",
       "2                      Acute cholecystitis   \n",
       "3            Acute lymphoblastic leukaemia   \n",
       "4  Acute lymphoblastic leukaemia: Children   \n",
       "\n",
       "                                                Text  \\\n",
       "0  an abdominal aortic aneurysm (aaa) is a swelli...   \n",
       "1  acne is a common skin condition that affects m...   \n",
       "2  acute cholecystitis is swelling (inflammation)...   \n",
       "3  leukaemia is cancer of the white blood cells. ...   \n",
       "4  acute lymphoblastic leukaemia (all) is a type ...   \n",
       "\n",
       "                                               Words  \\\n",
       "0  [an, abdominal, aortic, aneurysm, aaa, is, a, ...   \n",
       "1  [acne, is, a, common, skin, condition, that, a...   \n",
       "2  [acute, cholecystitis, is, swelling, inflammat...   \n",
       "3  [leukaemia, is, cancer, of, the, white, blood,...   \n",
       "4  [acute, lymphoblastic, leukaemia, all, is, a, ...   \n",
       "\n",
       "                                               Text2  \n",
       "0  an abdominal aortic aneurysm aaa is a swelling...  \n",
       "1  acne is a common skin condition that affects m...  \n",
       "2  acute cholecystitis is swelling inflammation o...  \n",
       "3  leukaemia is cancer of the white blood cells a...  \n",
       "4  acute lymphoblastic leukaemia all is a type of...  "
      ]
     },
     "execution_count": 5,
     "metadata": {},
     "output_type": "execute_result"
    }
   ],
   "source": [
    "data['Text2'] = data.Words.transform(lambda x: ' '.join(x))\n",
    "data.head()"
   ]
  },
  {
   "cell_type": "markdown",
   "id": "3dd27301",
   "metadata": {},
   "source": [
    "# TfIdf"
   ]
  },
  {
   "cell_type": "code",
   "execution_count": 6,
   "id": "ff18ffb8",
   "metadata": {},
   "outputs": [],
   "source": [
    "from sklearn.feature_extraction.text import TfidfVectorizer\n",
    "from sklearn.feature_extraction.text import CountVectorizer\n",
    "from sklearn.metrics.pairwise import cosine_similarity"
   ]
  },
  {
   "cell_type": "code",
   "execution_count": 8,
   "id": "ac6e4117",
   "metadata": {},
   "outputs": [],
   "source": [
    "tfidf_vectorizer = TfidfVectorizer()\n",
    "tfidf_matrix = tfidf_vectorizer.fit_transform(data['Text2'])\n",
    "vocabulary = tfidf_vectorizer.get_feature_names()\n",
    "idf_scores = dict(zip(vocabulary, tfidf_vectorizer.idf_))"
   ]
  },
  {
   "cell_type": "code",
   "execution_count": 9,
   "id": "62f8f6de",
   "metadata": {},
   "outputs": [],
   "source": [
    "query_sentence = \"what causes gallbladder cancer\""
   ]
  },
  {
   "cell_type": "code",
   "execution_count": 10,
   "id": "f7f4ca7c",
   "metadata": {},
   "outputs": [],
   "source": [
    "tfidf_matrix_query = tfidf_vectorizer.transform([query_sentence])"
   ]
  },
  {
   "cell_type": "code",
   "execution_count": 11,
   "id": "322db89d",
   "metadata": {},
   "outputs": [],
   "source": [
    "similarity_scores = cosine_similarity(tfidf_matrix_query, tfidf_matrix)\n",
    "most_similar_index = np.argmax(similarity_scores)"
   ]
  },
  {
   "cell_type": "code",
   "execution_count": 12,
   "id": "4765494a",
   "metadata": {},
   "outputs": [
    {
     "data": {
      "text/plain": [
       "Disease Name                                   Gallbladder cancer\n",
       "Text            gallbladder cancer is very rare.there are a nu...\n",
       "Words           [gallbladder, cancer, is, very, rare, there, a...\n",
       "Text2           gallbladder cancer is very rare there are a nu...\n",
       "Name: 129, dtype: object"
      ]
     },
     "execution_count": 12,
     "metadata": {},
     "output_type": "execute_result"
    }
   ],
   "source": [
    "data.iloc[most_similar_index]"
   ]
  },
  {
   "cell_type": "code",
   "execution_count": 13,
   "id": "dfcc0ef0",
   "metadata": {},
   "outputs": [],
   "source": [
    "def document_selection(query):\n",
    "    tfidf_matrix_query = tfidf_vectorizer.transform([query])\n",
    "    similarity_scores = cosine_similarity(tfidf_matrix_query, tfidf_matrix)\n",
    "    most_similar_index = np.argmax(similarity_scores)\n",
    "    return most_similar_index"
   ]
  },
  {
   "cell_type": "code",
   "execution_count": 14,
   "id": "b60e3fd3",
   "metadata": {},
   "outputs": [
    {
     "data": {
      "text/plain": [
       "Disease Name                                         Heart attack\n",
       "Text            you or someone else has symptoms like:a heart ...\n",
       "Words           [you, or, someone, else, has, symptoms, like, ...\n",
       "Text2           you or someone else has symptoms like a heart ...\n",
       "Name: 149, dtype: object"
      ]
     },
     "execution_count": 14,
     "metadata": {},
     "output_type": "execute_result"
    }
   ],
   "source": [
    "data.iloc[document_selection('what is heart attack')]"
   ]
  },
  {
   "cell_type": "markdown",
   "id": "0ec1c744",
   "metadata": {},
   "source": [
    "### important sentences - tfidf"
   ]
  },
  {
   "cell_type": "code",
   "execution_count": 15,
   "id": "ad1a9be4",
   "metadata": {},
   "outputs": [
    {
     "name": "stdout",
     "output_type": "stream",
     "text": [
      "Important sentence: an abdominal aortic aneurysm (aaa) occurs when part of the aorta wall becomes weakened and the large amount of blood that passes through it puts pressure on the weak spot, causing it to bulge outwards to form an aneurysm. an abdominal aortic aneurysm (aaa) is a swelling (aneurysm) of the aorta – the main blood vessel that leads away from the heart, down through the abdomen to the rest of the body. there are two surgical techniques used to treat a large aneurysm: endovascular surgery open surgeryalthough both techniques are equally effective at reducing the risk of the aneurysm bursting, each has its own advantages and disadvantages. if surgery is not advisable – or if you decide not to have it – there are a number of non-surgical treatments that can reduce the risk of an aneurysm rupturing\n"
     ]
    }
   ],
   "source": [
    "def textrank_extractive_summarization(query, paragraph, num_sentences=1):\n",
    "    sentences = paragraph.split('.')\n",
    "    sentences.append(query)\n",
    "    if '' in sentences: sentences.remove('')\n",
    "        \n",
    "    vectorizer = CountVectorizer().fit_transform(sentences)\n",
    "    sentence_embeddings = vectorizer.toarray()\n",
    "    \n",
    "    query = sentence_embeddings[-1]\n",
    "    similarity = sentence_embeddings @ query\n",
    "    \n",
    "    ranked_sentences_idx = np.argsort(similarity)[::-1]\n",
    "    summary_sentences = [sentences[i] for i in ranked_sentences_idx[:num_sentences]]\n",
    "    \n",
    "    return '. '.join(summary_sentences[1:])\n",
    "\n",
    "query = \"what are treatments of Abdominal aortic aneurysm?\"\n",
    "paragraph = data.Text.iloc[0]\n",
    "important_sentence = textrank_extractive_summarization(query, paragraph, num_sentences=5)\n",
    "print(\"Important sentence:\", important_sentence)"
   ]
  },
  {
   "cell_type": "markdown",
   "id": "fb8805ef",
   "metadata": {},
   "source": [
    "### important sentence - Glove"
   ]
  },
  {
   "cell_type": "code",
   "execution_count": 14,
   "id": "79cee28a",
   "metadata": {},
   "outputs": [],
   "source": [
    "import spacy"
   ]
  },
  {
   "cell_type": "code",
   "execution_count": 457,
   "id": "c4819f53",
   "metadata": {},
   "outputs": [],
   "source": [
    "nlp = spacy.load(\"en_core_web_md\")"
   ]
  },
  {
   "cell_type": "code",
   "execution_count": 507,
   "id": "40e0acc3",
   "metadata": {},
   "outputs": [
    {
     "name": "stdout",
     "output_type": "stream",
     "text": [
      "Important sentence: this is the safest of the two types of surgery available. this is because the risk of the aneurysm rupturing is usually greater than the risk of having it repaired. this type of graft is a tube made of a synthetic material. this reinforces the aorta, reducing the risk of it bursting. the bulging occurs when the wall of the aorta weakens\n"
     ]
    }
   ],
   "source": [
    "def embed_sentence(sentence):\n",
    "    doc = nlp(sentence)\n",
    "    return np.mean([token.vector for token in doc], axis=0)\n",
    "\n",
    "def textrank_extractive_summarization2(query, paragraph, num_sentences=1):\n",
    "    sentences = paragraph.split('.')\n",
    "    if '' in sentences: sentences.remove('')\n",
    "    \n",
    "    sentence_embeddings = np.vstack([embed_sentence(sentence) for sentence in sentences])\n",
    "    query = embed_sentence(query)\n",
    "    similarity = sentence_embeddings @ query\n",
    "    \n",
    "    ranked_sentences_idx = np.argsort(similarity)[::-1]\n",
    "    summary_sentences = [sentences[i] for i in ranked_sentences_idx[:num_sentences]]\n",
    "    \n",
    "    return '. '.join(summary_sentences)\n",
    "\n",
    "query = \"what are treatments of Abdominal aortic aneurysm?\"\n",
    "paragraph = data.Text.iloc[0]\n",
    "important_sentence = textrank_extractive_summarization2(query, paragraph, num_sentences=5)\n",
    "print(\"Important sentence:\", important_sentence)"
   ]
  },
  {
   "cell_type": "markdown",
   "id": "1a712bf9",
   "metadata": {},
   "source": [
    "### important sentence using sentence Transformer"
   ]
  },
  {
   "cell_type": "code",
   "execution_count": 16,
   "id": "ef09e5f4",
   "metadata": {},
   "outputs": [],
   "source": [
    "from sentence_transformers import SentenceTransformer\n",
    "model = SentenceTransformer('paraphrase-MiniLM-L6-v2')"
   ]
  },
  {
   "cell_type": "code",
   "execution_count": 17,
   "id": "e3c0cc16",
   "metadata": {},
   "outputs": [
    {
     "name": "stdout",
     "output_type": "stream",
     "text": [
      "Important sentence: treatment for an abdominal aortic aneurysm (aaa) depends on several factors, including the aneurysm’s size, your age and general health.  this will reduce the risk of developing an abdominal aortic aneurysm (aaa). see below for more information on treating small and medium aneurysms. an abdominal aortic aneurysm (aaa) usually causes no symptoms. the most common symptom of a ruptured aortic aneurysm is sudden and severe pain in the abdomen.  high blood pressure (hypertension) circulation foundation: abdominal aortic aneurysm. having a family history of aortic aneurysms also means that you have an increased risk of developing one yourself. in most cases, an unruptured abdominal aortic aneurysm (aaa) will cause no symptoms, unless it becomes particularly large. if your aortic aneurysm ruptures, you will feel a sudden and severe pain in the middle or side of your abdomen\n"
     ]
    }
   ],
   "source": [
    "import numpy as np\n",
    "from sentence_transformers import SentenceTransformer\n",
    "import torch\n",
    "\n",
    "def textrank_extractive_summarization_with_bert(query, paragraph, num_sentences=1):\n",
    "    sentences = paragraph.split('.')\n",
    "    sentences.append(query)\n",
    "    if '' in sentences: \n",
    "        sentences.remove('')\n",
    "    \n",
    "    model = SentenceTransformer('paraphrase-MiniLM-L6-v2')\n",
    "    sentence_embeddings = model.encode(sentences, convert_to_tensor=True)\n",
    "    \n",
    "    query_embedding = sentence_embeddings[-1]\n",
    "    similarity = torch.cosine_similarity(sentence_embeddings, query_embedding, dim=1)\n",
    "    \n",
    "    ranked_sentences_idx = np.argsort(similarity.cpu().detach().numpy())[::-1]\n",
    "    summary_sentences = [sentences[i] for i in ranked_sentences_idx[:num_sentences]]\n",
    "    \n",
    "    return '. '.join(summary_sentences[1:])\n",
    "\n",
    "query = \"what are treatments of Abdominal aortic aneurysm?\"\n",
    "paragraph = data.Text.iloc[0]\n",
    "important_sentence = textrank_extractive_summarization_with_bert(query, paragraph, num_sentences=10)\n",
    "print(\"Important sentence:\", important_sentence)"
   ]
  },
  {
   "cell_type": "markdown",
   "id": "873ea726",
   "metadata": {},
   "source": [
    "# word2vec"
   ]
  },
  {
   "cell_type": "code",
   "execution_count": 296,
   "id": "a97f9522",
   "metadata": {},
   "outputs": [],
   "source": [
    "from gensim.models import Word2Vec"
   ]
  },
  {
   "cell_type": "code",
   "execution_count": 297,
   "id": "3f775cbd",
   "metadata": {
    "scrolled": true
   },
   "outputs": [],
   "source": [
    "model = Word2Vec(data.Words, vector_size=100, window=5, min_count=1, workers=4)\n",
    "word_vectors = model.wv"
   ]
  },
  {
   "cell_type": "code",
   "execution_count": 369,
   "id": "82a2f9d0",
   "metadata": {
    "scrolled": true
   },
   "outputs": [],
   "source": [
    "def get_vector(model, words):\n",
    "    vec = np.zeros(model.vector_size)\n",
    "    count = 0\n",
    "    for word in words:\n",
    "        if word in word_vectors:\n",
    "            vec += word_vectors[word]\n",
    "            count += 1\n",
    "    if count != 0:\n",
    "        vec /= count\n",
    "    return vec"
   ]
  },
  {
   "cell_type": "code",
   "execution_count": 370,
   "id": "58df4fe3",
   "metadata": {},
   "outputs": [],
   "source": [
    "document_vectors = [get_vector(model, doc) for doc in data.Words]"
   ]
  },
  {
   "cell_type": "code",
   "execution_count": 385,
   "id": "acf65b7a",
   "metadata": {},
   "outputs": [],
   "source": [
    "query = 'body ache'\n",
    "query_vec = get_vector(model, word_tokenize(query))\n",
    "similarities = [cosine_similarity([query_vec], [doc_vec])[0][0] for doc_vec in document_vectors]"
   ]
  },
  {
   "cell_type": "code",
   "execution_count": 386,
   "id": "2b85c6aa",
   "metadata": {
    "scrolled": true
   },
   "outputs": [
    {
     "data": {
      "text/plain": [
       "Disease Name                                       Swollen glands\n",
       "Text            swollen lymph glands are usually a sign of inf...\n",
       "Words           [swollen, lymph, glands, are, usually, a, sign...\n",
       "Text2           swollen lymph glands are usually a sign of inf...\n",
       "Vectors         [-0.037451223, 0.097315915, 0.02943888, 0.0046...\n",
       "Name: 294, dtype: object"
      ]
     },
     "execution_count": 386,
     "metadata": {},
     "output_type": "execute_result"
    }
   ],
   "source": [
    "data.iloc[np.argmax(similarities)]"
   ]
  },
  {
   "cell_type": "markdown",
   "id": "d9f4e42b",
   "metadata": {},
   "source": [
    "# t5 model"
   ]
  },
  {
   "cell_type": "code",
   "execution_count": 18,
   "id": "051b00b8",
   "metadata": {},
   "outputs": [],
   "source": [
    "from transformers import T5ForConditionalGeneration, T5Tokenizer\n",
    "import torch"
   ]
  },
  {
   "cell_type": "code",
   "execution_count": 19,
   "id": "116719a4",
   "metadata": {
    "collapsed": true,
    "jupyter": {
     "outputs_hidden": true
    }
   },
   "outputs": [
    {
     "data": {
      "application/vnd.jupyter.widget-view+json": {
       "model_id": "a848934fbee54da0b33bc7e96e4c7742",
       "version_major": 2,
       "version_minor": 0
      },
      "text/plain": [
       "model.safetensors:   0%|          | 0.00/242M [00:00<?, ?B/s]"
      ]
     },
     "metadata": {},
     "output_type": "display_data"
    },
    {
     "name": "stderr",
     "output_type": "stream",
     "text": [
      "\n",
      "KeyboardInterrupt\n",
      "\n"
     ]
    }
   ],
   "source": [
    "model_t5 = T5ForConditionalGeneration.from_pretrained(\"t5-small\")\n",
    "tokenizer_t5 = T5Tokenizer.from_pretrained(\"t5-small\")"
   ]
  },
  {
   "cell_type": "code",
   "execution_count": 22,
   "id": "7456d6eb",
   "metadata": {},
   "outputs": [],
   "source": [
    "context = \"Albert Einstein was a German-born theoretical physicist who developed the theory of relativity.\"\n",
    "question = \"who is Albert Einstein?\""
   ]
  },
  {
   "cell_type": "code",
   "execution_count": 23,
   "id": "5e38e9e6",
   "metadata": {
    "scrolled": true
   },
   "outputs": [
    {
     "data": {
      "text/plain": [
       "{'input_ids': tensor([[ 3806,  1525,    10,   113,    19, 11375,   890,  4008,    58,  2625,\n",
       "            10, 11375,   890,  4008,    47,     3,     9,  2968,    18,  7473,\n",
       "         13605,     3,  6941,     7,   447,   343,   113,  1597,     8,  4516,\n",
       "            13, 13105,   485,     5,     1]]), 'attention_mask': tensor([[1, 1, 1, 1, 1, 1, 1, 1, 1, 1, 1, 1, 1, 1, 1, 1, 1, 1, 1, 1, 1, 1, 1, 1,\n",
       "         1, 1, 1, 1, 1, 1, 1, 1, 1, 1, 1]])}"
      ]
     },
     "execution_count": 23,
     "metadata": {},
     "output_type": "execute_result"
    }
   ],
   "source": [
    "generator_inputs = tokenizer_t5(\"generate answer: \" + question + \" context: \" + context, return_tensors=\"pt\")\n",
    "generator_inputs"
   ]
  },
  {
   "cell_type": "code",
   "execution_count": 24,
   "id": "7301e840",
   "metadata": {},
   "outputs": [
    {
     "data": {
      "text/plain": [
       "'generate answer: who is Albert Einstein? context: Albert Einstein was a German-born theoretical physicist who developed the theory of relativity.</s>'"
      ]
     },
     "execution_count": 24,
     "metadata": {},
     "output_type": "execute_result"
    }
   ],
   "source": [
    "tokenizer_t5.decode(generator_inputs['input_ids'][0])"
   ]
  },
  {
   "cell_type": "code",
   "execution_count": 25,
   "id": "c01595ef",
   "metadata": {},
   "outputs": [
    {
     "data": {
      "text/plain": [
       "tensor([[    0,     3,     9,  2968,    18,  7473, 13605,     3,  6941,     7,\n",
       "           447,   343,     1]])"
      ]
     },
     "execution_count": 25,
     "metadata": {},
     "output_type": "execute_result"
    }
   ],
   "source": [
    "outputs = model_t5.generate(input_ids = generator_inputs[\"input_ids\"],\n",
    "                            attention_mask=generator_inputs[\"attention_mask\"],\n",
    "                            max_length=50)\n",
    "outputs"
   ]
  },
  {
   "cell_type": "code",
   "execution_count": 26,
   "id": "e850b808",
   "metadata": {},
   "outputs": [
    {
     "data": {
      "text/plain": [
       "'<pad> a German-born theoretical physicist</s>'"
      ]
     },
     "execution_count": 26,
     "metadata": {},
     "output_type": "execute_result"
    }
   ],
   "source": [
    "tokenizer_t5.decode(outputs[0])"
   ]
  },
  {
   "cell_type": "markdown",
   "id": "df840ee7",
   "metadata": {},
   "source": [
    "# roberta-qna"
   ]
  },
  {
   "cell_type": "code",
   "execution_count": 91,
   "id": "e706b543",
   "metadata": {
    "scrolled": true
   },
   "outputs": [
    {
     "data": {
      "application/vnd.jupyter.widget-view+json": {
       "model_id": "e4a6709a91c94a5d915d08642d47cede",
       "version_major": 2,
       "version_minor": 0
      },
      "text/plain": [
       "config.json:   0%|          | 0.00/571 [00:00<?, ?B/s]"
      ]
     },
     "metadata": {},
     "output_type": "display_data"
    },
    {
     "name": "stderr",
     "output_type": "stream",
     "text": [
      "C:\\Users\\JAYANKONDAN\\anaconda3\\lib\\site-packages\\huggingface_hub\\file_download.py:149: UserWarning: `huggingface_hub` cache-system uses symlinks by default to efficiently store duplicated files but your machine does not support them in C:\\Users\\JAYANKONDAN\\.cache\\huggingface\\hub\\models--deepset--roberta-base-squad2. Caching files will still work but in a degraded version that might require more space on your disk. This warning can be disabled by setting the `HF_HUB_DISABLE_SYMLINKS_WARNING` environment variable. For more details, see https://huggingface.co/docs/huggingface_hub/how-to-cache#limitations.\n",
      "To support symlinks on Windows, you either need to activate Developer Mode or to run Python as an administrator. In order to see activate developer mode, see this article: https://docs.microsoft.com/en-us/windows/apps/get-started/enable-your-device-for-development\n",
      "  warnings.warn(message)\n"
     ]
    },
    {
     "data": {
      "application/vnd.jupyter.widget-view+json": {
       "model_id": "66970982b7514c3c91383007812d07d9",
       "version_major": 2,
       "version_minor": 0
      },
      "text/plain": [
       "pytorch_model.bin:   0%|          | 0.00/496M [00:00<?, ?B/s]"
      ]
     },
     "metadata": {},
     "output_type": "display_data"
    },
    {
     "data": {
      "application/vnd.jupyter.widget-view+json": {
       "model_id": "86dcf3d5f394456aa4e75c15a16ce64b",
       "version_major": 2,
       "version_minor": 0
      },
      "text/plain": [
       "tokenizer_config.json:   0%|          | 0.00/79.0 [00:01<?, ?B/s]"
      ]
     },
     "metadata": {},
     "output_type": "display_data"
    },
    {
     "data": {
      "application/vnd.jupyter.widget-view+json": {
       "model_id": "9d3cfbbc66a748f2856694f66311a367",
       "version_major": 2,
       "version_minor": 0
      },
      "text/plain": [
       "vocab.json:   0%|          | 0.00/899k [00:00<?, ?B/s]"
      ]
     },
     "metadata": {},
     "output_type": "display_data"
    },
    {
     "data": {
      "application/vnd.jupyter.widget-view+json": {
       "model_id": "c41554d316f2464ea9273be89544ff04",
       "version_major": 2,
       "version_minor": 0
      },
      "text/plain": [
       "merges.txt:   0%|          | 0.00/456k [00:00<?, ?B/s]"
      ]
     },
     "metadata": {},
     "output_type": "display_data"
    },
    {
     "data": {
      "application/vnd.jupyter.widget-view+json": {
       "model_id": "f548b3facb4b494c8668a2168a397c5d",
       "version_major": 2,
       "version_minor": 0
      },
      "text/plain": [
       "special_tokens_map.json:   0%|          | 0.00/772 [00:00<?, ?B/s]"
      ]
     },
     "metadata": {},
     "output_type": "display_data"
    }
   ],
   "source": [
    "from transformers import pipeline\n",
    "pipe = pipeline(\"question-answering\", model=\"deepset/roberta-base-squad2\")"
   ]
  },
  {
   "cell_type": "code",
   "execution_count": 93,
   "id": "9b3081eb",
   "metadata": {},
   "outputs": [
    {
     "data": {
      "text/plain": [
       "{'score': 0.21171464025974274,\n",
       " 'start': 59,\n",
       " 'end': 84,\n",
       " 'answer': 'gives freedom to the user'}"
      ]
     },
     "execution_count": 93,
     "metadata": {},
     "output_type": "execute_result"
    }
   ],
   "source": [
    "QA_input = {\n",
    "    'question': 'Why is model conversion important?',\n",
    "    'context': 'The option to convert models between FARM and transformers gives freedom to the user and let people easily switch between frameworks.'\n",
    "}\n",
    "res = pipe(QA_input)\n",
    "res"
   ]
  },
  {
   "cell_type": "markdown",
   "id": "ec21d087",
   "metadata": {},
   "source": [
    "## ALL combined"
   ]
  },
  {
   "cell_type": "code",
   "execution_count": 20,
   "id": "d864bd3c",
   "metadata": {},
   "outputs": [
    {
     "data": {
      "text/plain": [
       "'Yellow fever'"
      ]
     },
     "execution_count": 20,
     "metadata": {},
     "output_type": "execute_result"
    }
   ],
   "source": [
    "query = \"what causes yello fever\"\n",
    "doc_ind = document_selection(query)\n",
    "summ = textrank_extractive_summarization(query, data.Text.iloc[doc_ind], 10)\n",
    "data['Disease Name'].iloc[doc_ind]"
   ]
  },
  {
   "cell_type": "code",
   "execution_count": 21,
   "id": "7c1f6732",
   "metadata": {},
   "outputs": [
    {
     "data": {
      "text/plain": [
       "'more about theyellow fever vaccinefind your nearest yellow fever vaccination centreif you have yellow fever, your clinical team will pass information about you on to the national congenital anomaly and rare diseases registration service (ncardrs). to help determine whether you have yellow fever, the doctor will want to know exactly where you have been travelling and what symptoms you have. the virus that causes yellow fever is passed to humans through the bites of infected mosquitoes. the yellow fever vaccine protects you from infection when you travel to a country where yellow fever virus occurs and prevents the disease from spreading between countries.  fitfortravel: yellow fever nathnac: find a yellow fever vaccination centre. between 1999 and 2018, there were 12 cases of yellow fever reported among european travellers. if you’re planning to visit places where yellow fever infection is found, you should seek travel health advice before you travel.  amap and list of countries where yellow fever is foundis available on the nhs fit for travel website. yellow fever can’t be passed directly from person to person through close contact'"
      ]
     },
     "execution_count": 21,
     "metadata": {},
     "output_type": "execute_result"
    }
   ],
   "source": [
    "summ"
   ]
  },
  {
   "cell_type": "code",
   "execution_count": 22,
   "id": "0fbac4ee",
   "metadata": {},
   "outputs": [
    {
     "data": {
      "text/plain": [
       "'the symptoms of yellow fever occur in 2 stages. yellow fever is a serious viral infection that is spread by certain types of mosquito. yellow fever can’t be passed directly from person to person through close contact. the virus that causes yellow fever is passed to humans through the bites of infected mosquitoes. between 1999 and 2018, there were 12 cases of yellow fever reported among european travellers.  fitfortravel: yellow fever nathnac: find a yellow fever vaccination centre.  amap and list of countries where yellow fever is foundis available on the nhs fit for travel website. there is no specific treatment for yellow fever, but you will be monitored and the symptoms can be treated. the yellow fever vaccine protects you from infection when you travel to a country where yellow fever virus occurs and prevents the disease from spreading between countries'"
      ]
     },
     "execution_count": 22,
     "metadata": {},
     "output_type": "execute_result"
    }
   ],
   "source": [
    "summ1 = textrank_extractive_summarization_with_bert(query, data.Text.iloc[doc_ind], 10)\n",
    "summ1"
   ]
  },
  {
   "cell_type": "code",
   "execution_count": 129,
   "id": "02871c76",
   "metadata": {},
   "outputs": [
    {
     "data": {
      "text/plain": [
       "'<pad> the virus that causes yellow fever is passed to humans through the bites of infected mosquitoes</s>'"
      ]
     },
     "execution_count": 129,
     "metadata": {},
     "output_type": "execute_result"
    }
   ],
   "source": [
    "generator_inputs = tokenizer_t5(\"question: \"+query+\" context: \"+summ, return_tensors=\"pt\")\n",
    "outputs = model_t5.generate(input_ids = generator_inputs[\"input_ids\"],\n",
    "                            attention_mask=generator_inputs[\"attention_mask\"],\n",
    "                            max_length=50)\n",
    "tokenizer_t5.decode(outputs[0])"
   ]
  },
  {
   "cell_type": "code",
   "execution_count": 130,
   "id": "647c8a5e",
   "metadata": {},
   "outputs": [
    {
     "data": {
      "text/plain": [
       "{'score': 7.3520065591026196e-09,\n",
       " 'start': 460,\n",
       " 'end': 488,\n",
       " 'answer': 'bites of infected mosquitoes'}"
      ]
     },
     "execution_count": 130,
     "metadata": {},
     "output_type": "execute_result"
    }
   ],
   "source": [
    "QA_input = {\n",
    "    'question': query,\n",
    "    'context': summ\n",
    "}\n",
    "res = pipe(QA_input)\n",
    "res"
   ]
  },
  {
   "cell_type": "markdown",
   "id": "4456b730",
   "metadata": {},
   "source": [
    "## abstractive summarization"
   ]
  },
  {
   "cell_type": "code",
   "execution_count": 23,
   "id": "b0e42da9",
   "metadata": {},
   "outputs": [
    {
     "data": {
      "application/vnd.jupyter.widget-view+json": {
       "model_id": "f2d02463a975435ab1fa6106fa51be50",
       "version_major": 2,
       "version_minor": 0
      },
      "text/plain": [
       "config.json:   0%|          | 0.00/1.50k [00:00<?, ?B/s]"
      ]
     },
     "metadata": {},
     "output_type": "display_data"
    },
    {
     "name": "stderr",
     "output_type": "stream",
     "text": [
      "C:\\Users\\JAYANKONDAN\\anaconda3\\lib\\site-packages\\huggingface_hub\\file_download.py:149: UserWarning: `huggingface_hub` cache-system uses symlinks by default to efficiently store duplicated files but your machine does not support them in C:\\Users\\JAYANKONDAN\\.cache\\huggingface\\hub\\models--Falconsai--medical_summarization. Caching files will still work but in a degraded version that might require more space on your disk. This warning can be disabled by setting the `HF_HUB_DISABLE_SYMLINKS_WARNING` environment variable. For more details, see https://huggingface.co/docs/huggingface_hub/how-to-cache#limitations.\n",
      "To support symlinks on Windows, you either need to activate Developer Mode or to run Python as an administrator. In order to see activate developer mode, see this article: https://docs.microsoft.com/en-us/windows/apps/get-started/enable-your-device-for-development\n",
      "  warnings.warn(message)\n"
     ]
    },
    {
     "data": {
      "application/vnd.jupyter.widget-view+json": {
       "model_id": "2432a1357f1b408280620ac804022737",
       "version_major": 2,
       "version_minor": 0
      },
      "text/plain": [
       "model.safetensors:   0%|          | 0.00/242M [00:00<?, ?B/s]"
      ]
     },
     "metadata": {},
     "output_type": "display_data"
    },
    {
     "data": {
      "application/vnd.jupyter.widget-view+json": {
       "model_id": "89859a81e7e3480f9f605589163e17f3",
       "version_major": 2,
       "version_minor": 0
      },
      "text/plain": [
       "generation_config.json:   0%|          | 0.00/112 [00:00<?, ?B/s]"
      ]
     },
     "metadata": {},
     "output_type": "display_data"
    },
    {
     "data": {
      "application/vnd.jupyter.widget-view+json": {
       "model_id": "8a6e2b2ef62042a9aecfc2b6046b04b8",
       "version_major": 2,
       "version_minor": 0
      },
      "text/plain": [
       "tokenizer_config.json:   0%|          | 0.00/2.37k [00:00<?, ?B/s]"
      ]
     },
     "metadata": {},
     "output_type": "display_data"
    },
    {
     "data": {
      "application/vnd.jupyter.widget-view+json": {
       "model_id": "eb0c262f5dee4984bd8ca8d213f87670",
       "version_major": 2,
       "version_minor": 0
      },
      "text/plain": [
       "spiece.model:   0%|          | 0.00/792k [00:00<?, ?B/s]"
      ]
     },
     "metadata": {},
     "output_type": "display_data"
    },
    {
     "data": {
      "application/vnd.jupyter.widget-view+json": {
       "model_id": "2387decaeb5c4c24b273c00a46fd9ac3",
       "version_major": 2,
       "version_minor": 0
      },
      "text/plain": [
       "tokenizer.json:   0%|          | 0.00/2.42M [00:00<?, ?B/s]"
      ]
     },
     "metadata": {},
     "output_type": "display_data"
    },
    {
     "data": {
      "application/vnd.jupyter.widget-view+json": {
       "model_id": "a0f9f3061c40456c9759059cc166f4be",
       "version_major": 2,
       "version_minor": 0
      },
      "text/plain": [
       "special_tokens_map.json:   0%|          | 0.00/2.20k [00:00<?, ?B/s]"
      ]
     },
     "metadata": {},
     "output_type": "display_data"
    }
   ],
   "source": [
    "from transformers import pipeline\n",
    "\n",
    "pipe = pipeline(\"summarization\", model=\"Falconsai/medical_summarization\")"
   ]
  },
  {
   "cell_type": "code",
   "execution_count": 25,
   "id": "0cb062c5",
   "metadata": {},
   "outputs": [
    {
     "name": "stderr",
     "output_type": "stream",
     "text": [
      "Your max_length is set to 200, but your input_length is only 180. Since this is a summarization task, where outputs shorter than the input are typically wanted, you might consider decreasing max_length manually, e.g. summarizer('...', max_length=90)\n"
     ]
    },
    {
     "data": {
      "text/plain": [
       "[{'summary_text': 'yellow fever is a serious viral infection that is spread by certain types of mosquito . yellow fever can’t be passed directly from person to person through close contact . the virus that causes yellow fever has been passed to humans through the bites of infected mosquitoes . between 1999 and 2018, there were 12 cases of yellow fever reported among european travellers . there is no specific treatment for yellow fever , but you will be monitored and the symptoms can be treated .'}]"
      ]
     },
     "execution_count": 25,
     "metadata": {},
     "output_type": "execute_result"
    }
   ],
   "source": [
    "pipe(summ1)"
   ]
  },
  {
   "cell_type": "code",
   "execution_count": 27,
   "id": "20204ca9",
   "metadata": {},
   "outputs": [
    {
     "data": {
      "text/plain": [
       "'Brain tumours'"
      ]
     },
     "execution_count": 27,
     "metadata": {},
     "output_type": "execute_result"
    }
   ],
   "source": [
    "query = \"what are the treatments for brain tumours\"\n",
    "doc_ind = document_selection(query)\n",
    "summ = textrank_extractive_summarization(query, data.Text.iloc[doc_ind], 10)\n",
    "data['Disease Name'].iloc[doc_ind]"
   ]
  },
  {
   "cell_type": "code",
   "execution_count": 28,
   "id": "b141f2db",
   "metadata": {},
   "outputs": [
    {
     "data": {
      "text/plain": [
       "'the main treatment for most brain tumours is surgery, which aims to remove as much of the abnormal tissue as possible.  many others are diagnosed with secondary brain tumours. it’s not always possible to remove the entire tumour, so further treatment with radiotherapy and/orchemotherapymay be necessary to kill any abnormal cells left behind. if a tumour does come back, treatment will aim to relieve your symptoms and prolong life by controlling the growth of the tumour. a brain tumour is a growth of cells in the brain that multiplies in an abnormal, uncontrollable way. for most benign tumours, treatment is often successful and a full recovery is possible, although there’s sometimes a small chance the tumour could come back. more than 9,000 people are diagnosed with primary brain tumours in the uk each year, of which about half are benign and half are malignant. this page gives general information relevant to both types of brain tumour. speak to your gp if you have persistent symptoms of a brain tumour'"
      ]
     },
     "execution_count": 28,
     "metadata": {},
     "output_type": "execute_result"
    }
   ],
   "source": [
    "summ1 = textrank_extractive_summarization_with_bert(query, data.Text.iloc[doc_ind], 10)\n",
    "summ1"
   ]
  },
  {
   "cell_type": "code",
   "execution_count": 29,
   "id": "fb385298",
   "metadata": {},
   "outputs": [
    {
     "data": {
      "text/plain": [
       "[{'summary_text': 'a brain tumour is a growth of cells in the brain that multiplies in an abnormal, uncontrollable way . for most benign tumours, treatment is often successful and a full recovery is possible , although there’s sometimes a small chance the tumour could come back . more than 9,000 people are diagnosed with primary brain tumours in the uk each year , of which about half are benign and half are malignant . this page gives general information relevant to both types of brain tumour .'}]"
      ]
     },
     "execution_count": 29,
     "metadata": {},
     "output_type": "execute_result"
    }
   ],
   "source": [
    "query = \"what are the treatments for brain tumours\"\n",
    "doc_ind = document_selection(query)\n",
    "summ1 = textrank_extractive_summarization_with_bert(query, data.Text.iloc[doc_ind], 10)\n",
    "pipe(summ1)"
   ]
  },
  {
   "cell_type": "code",
   "execution_count": null,
   "id": "8cf5fd59",
   "metadata": {},
   "outputs": [],
   "source": []
  }
 ],
 "metadata": {
  "kernelspec": {
   "display_name": "Python 3 (ipykernel)",
   "language": "python",
   "name": "python3"
  },
  "language_info": {
   "codemirror_mode": {
    "name": "ipython",
    "version": 3
   },
   "file_extension": ".py",
   "mimetype": "text/x-python",
   "name": "python",
   "nbconvert_exporter": "python",
   "pygments_lexer": "ipython3",
   "version": "3.10.12"
  }
 },
 "nbformat": 4,
 "nbformat_minor": 5
}
